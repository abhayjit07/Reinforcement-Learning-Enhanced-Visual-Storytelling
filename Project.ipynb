{
 "cells": [
  {
   "cell_type": "markdown",
   "metadata": {},
   "source": [
    "## Libraries"
   ]
  },
  {
   "cell_type": "code",
   "execution_count": 19,
   "metadata": {},
   "outputs": [],
   "source": [
    "import json\n",
    "\n",
    "import pandas as pd \n",
    "import numpy as np"
   ]
  },
  {
   "cell_type": "markdown",
   "metadata": {},
   "source": [
    "## Dataset"
   ]
  },
  {
   "cell_type": "markdown",
   "metadata": {},
   "source": [
    "Annotations"
   ]
  },
  {
   "cell_type": "code",
   "execution_count": 18,
   "metadata": {},
   "outputs": [],
   "source": [
    "with open('./Dataset/SSID_Annotations/SSID_Train.json') as f:\n",
    "    train_data = json.load(f)\n",
    "    \n",
    "with open('./Dataset/SSID_Annotations/SSID_Test.json') as f:\n",
    "    test_data = json.load(f)\n",
    "\n",
    "with open('./Dataset/SSID_Annotations/SSID_Validation.json') as f:\n",
    "    val_data = json.load(f)"
   ]
  },
  {
   "cell_type": "markdown",
   "metadata": {},
   "source": [
    "Convert to DataFrame"
   ]
  },
  {
   "cell_type": "code",
   "execution_count": 21,
   "metadata": {},
   "outputs": [],
   "source": [
    "flattened_data = [item for sublist in train_data['annotations'] for item in sublist]\n",
    "train_df = pd.DataFrame(flattened_data)\n",
    "\n",
    "flattened_data = [item for sublist in test_data['annotations'] for item in sublist]\n",
    "test_df = pd.DataFrame(flattened_data)\n",
    "\n",
    "flattened_data = [item for sublist in val_data['annotations'] for item in sublist]\n",
    "val_df = pd.DataFrame(flattened_data)"
   ]
  },
  {
   "cell_type": "code",
   "execution_count": 22,
   "metadata": {},
   "outputs": [
    {
     "data": {
      "text/html": [
       "<div>\n",
       "<style scoped>\n",
       "    .dataframe tbody tr th:only-of-type {\n",
       "        vertical-align: middle;\n",
       "    }\n",
       "\n",
       "    .dataframe tbody tr th {\n",
       "        vertical-align: top;\n",
       "    }\n",
       "\n",
       "    .dataframe thead th {\n",
       "        text-align: right;\n",
       "    }\n",
       "</style>\n",
       "<table border=\"1\" class=\"dataframe\">\n",
       "  <thead>\n",
       "    <tr style=\"text-align: right;\">\n",
       "      <th></th>\n",
       "      <th>storylet_id</th>\n",
       "      <th>storytext</th>\n",
       "      <th>youtube_image_id</th>\n",
       "      <th>album_id</th>\n",
       "      <th>story_id</th>\n",
       "      <th>image_order</th>\n",
       "    </tr>\n",
       "  </thead>\n",
       "  <tbody>\n",
       "    <tr>\n",
       "      <th>0</th>\n",
       "      <td>5887</td>\n",
       "      <td>Today I am in my friends house and he is very ...</td>\n",
       "      <td>2001</td>\n",
       "      <td>10856</td>\n",
       "      <td>5887</td>\n",
       "      <td>1</td>\n",
       "    </tr>\n",
       "    <tr>\n",
       "      <th>1</th>\n",
       "      <td>5888</td>\n",
       "      <td>He is telling me about his car.</td>\n",
       "      <td>2002</td>\n",
       "      <td>10856</td>\n",
       "      <td>5887</td>\n",
       "      <td>2</td>\n",
       "    </tr>\n",
       "    <tr>\n",
       "      <th>2</th>\n",
       "      <td>5889</td>\n",
       "      <td>He is telling me about his car's feature.</td>\n",
       "      <td>2003</td>\n",
       "      <td>10856</td>\n",
       "      <td>5887</td>\n",
       "      <td>3</td>\n",
       "    </tr>\n",
       "    <tr>\n",
       "      <th>3</th>\n",
       "      <td>5890</td>\n",
       "      <td>The car color is white and it looks awesome an...</td>\n",
       "      <td>2004</td>\n",
       "      <td>10856</td>\n",
       "      <td>5887</td>\n",
       "      <td>4</td>\n",
       "    </tr>\n",
       "    <tr>\n",
       "      <th>4</th>\n",
       "      <td>5891</td>\n",
       "      <td>Now he is telling me about all doors and seats...</td>\n",
       "      <td>2005</td>\n",
       "      <td>10856</td>\n",
       "      <td>5887</td>\n",
       "      <td>5</td>\n",
       "    </tr>\n",
       "    <tr>\n",
       "      <th>...</th>\n",
       "      <td>...</td>\n",
       "      <td>...</td>\n",
       "      <td>...</td>\n",
       "      <td>...</td>\n",
       "      <td>...</td>\n",
       "      <td>...</td>\n",
       "    </tr>\n",
       "    <tr>\n",
       "      <th>62495</th>\n",
       "      <td>41431</td>\n",
       "      <td>Seem like two girls</td>\n",
       "      <td>16996</td>\n",
       "      <td>25851</td>\n",
       "      <td>41431</td>\n",
       "      <td>1</td>\n",
       "    </tr>\n",
       "    <tr>\n",
       "      <th>62496</th>\n",
       "      <td>41432</td>\n",
       "      <td>One man is starting to space off</td>\n",
       "      <td>16997</td>\n",
       "      <td>25851</td>\n",
       "      <td>41431</td>\n",
       "      <td>2</td>\n",
       "    </tr>\n",
       "    <tr>\n",
       "      <th>62497</th>\n",
       "      <td>41433</td>\n",
       "      <td>The girls seem happy</td>\n",
       "      <td>16998</td>\n",
       "      <td>25851</td>\n",
       "      <td>41431</td>\n",
       "      <td>3</td>\n",
       "    </tr>\n",
       "    <tr>\n",
       "      <th>62498</th>\n",
       "      <td>41434</td>\n",
       "      <td>The man is on the couch with them.</td>\n",
       "      <td>16999</td>\n",
       "      <td>25851</td>\n",
       "      <td>41431</td>\n",
       "      <td>4</td>\n",
       "    </tr>\n",
       "    <tr>\n",
       "      <th>62499</th>\n",
       "      <td>41435</td>\n",
       "      <td>He is laying down now and it was good day.</td>\n",
       "      <td>17000</td>\n",
       "      <td>25851</td>\n",
       "      <td>41431</td>\n",
       "      <td>5</td>\n",
       "    </tr>\n",
       "  </tbody>\n",
       "</table>\n",
       "<p>62500 rows × 6 columns</p>\n",
       "</div>"
      ],
      "text/plain": [
       "       storylet_id                                          storytext  \\\n",
       "0             5887  Today I am in my friends house and he is very ...   \n",
       "1             5888                    He is telling me about his car.   \n",
       "2             5889          He is telling me about his car's feature.   \n",
       "3             5890  The car color is white and it looks awesome an...   \n",
       "4             5891  Now he is telling me about all doors and seats...   \n",
       "...            ...                                                ...   \n",
       "62495        41431                                Seem like two girls   \n",
       "62496        41432                   One man is starting to space off   \n",
       "62497        41433                               The girls seem happy   \n",
       "62498        41434                 The man is on the couch with them.   \n",
       "62499        41435         He is laying down now and it was good day.   \n",
       "\n",
       "      youtube_image_id  album_id  story_id  image_order  \n",
       "0                 2001     10856      5887            1  \n",
       "1                 2002     10856      5887            2  \n",
       "2                 2003     10856      5887            3  \n",
       "3                 2004     10856      5887            4  \n",
       "4                 2005     10856      5887            5  \n",
       "...                ...       ...       ...          ...  \n",
       "62495            16996     25851     41431            1  \n",
       "62496            16997     25851     41431            2  \n",
       "62497            16998     25851     41431            3  \n",
       "62498            16999     25851     41431            4  \n",
       "62499            17000     25851     41431            5  \n",
       "\n",
       "[62500 rows x 6 columns]"
      ]
     },
     "execution_count": 22,
     "metadata": {},
     "output_type": "execute_result"
    }
   ],
   "source": [
    "train_df"
   ]
  }
 ],
 "metadata": {
  "kernelspec": {
   "display_name": "venv",
   "language": "python",
   "name": "python3"
  },
  "language_info": {
   "codemirror_mode": {
    "name": "ipython",
    "version": 3
   },
   "file_extension": ".py",
   "mimetype": "text/x-python",
   "name": "python",
   "nbconvert_exporter": "python",
   "pygments_lexer": "ipython3",
   "version": "3.10.4"
  }
 },
 "nbformat": 4,
 "nbformat_minor": 2
}
